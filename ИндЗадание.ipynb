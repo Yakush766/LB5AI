{
 "cells": [
  {
   "cell_type": "code",
   "execution_count": null,
   "id": "b6e4f67c-9de1-465f-832b-9fa805f81d33",
   "metadata": {},
   "outputs": [
    {
     "name": "stdin",
     "output_type": "stream",
     "text": [
      "Введите пункт назначения:  Ставрополь\n",
      "Введите номер поезда:  3\n",
      "Введите время отправления (в формате HH:MM):  12:30\n",
      "Введите пункт назначения:  Зеленокумск\n",
      "Введите номер поезда:  3\n"
     ]
    }
   ],
   "source": [
    "import pandas as pd\n",
    "\n",
    "# Создаем начальный DataFrame\n",
    "columns = ['Пункт назначения', 'Номер поезда', 'Время отправления']\n",
    "train_data = pd.DataFrame(columns=columns)\n",
    "\n",
    "# Функция для ввода данных\n",
    "def input_train():\n",
    "    destination = input(\"Введите пункт назначения: \")\n",
    "    train_number = input(\"Введите номер поезда: \")\n",
    "    departure_time = input(\"Введите время отправления (в формате HH:MM): \")\n",
    "    return {columns [0] : destination, columns [1] : train_number, columns [2] : departure_time}\n",
    "\n",
    "# Ввод данных (например, 3 записи)\n",
    "for _ in range(3):\n",
    "    row = input_train()\n",
    "    # Используем pd.DataFrame([row]) для добавления\n",
    "    train_data = pd.concat([train_data, pd.DataFrame([row])], ignore_index=True)\n",
    "\n",
    "# Сортируем по пункту назначения\n",
    "train_data = train_data.sort_values(by='Пункт назначения')\n",
    "\n",
    "# Ввод времени для фильтрации\n",
    "time_threshold = input(\"Введите время для фильтрации (в формате HH:MM): \")\n",
    "\n",
    "# Преобразуем строки в datetime\n",
    "train_data['Время отправления'] = pd.to_datetime(train_data['Время отправления'], format='%H:%M')\n",
    "time_threshold_dt = pd.to_datetime(time_threshold, format='%H:%M')\n",
    "\n",
    "# Фильтр по времени\n",
    "filtered_trains = train_data[train_data['Время отправления'] > time_threshold_dt]\n",
    "\n",
    "# Вывод результата\n",
    "if filtered_trains.empty:\n",
    "    print(\"Поездов, отправляющихся после указанного времени, нет.\")\n",
    "else:\n",
    "    print(\"Поезда, отправляющиеся после указанного времени:\")\n",
    "    print(filtered_trains)\n"
   ]
  }
 ],
 "metadata": {
  "kernelspec": {
   "display_name": "Python (myenv)",
   "language": "python",
   "name": "myenv"
  },
  "language_info": {
   "codemirror_mode": {
    "name": "ipython",
    "version": 3
   },
   "file_extension": ".py",
   "mimetype": "text/x-python",
   "name": "python",
   "nbconvert_exporter": "python",
   "pygments_lexer": "ipython3",
   "version": "3.12.7"
  }
 },
 "nbformat": 4,
 "nbformat_minor": 5
}

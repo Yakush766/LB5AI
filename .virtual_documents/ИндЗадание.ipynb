import pandas as pd

# Создаем начальный DataFrame
columns = ['Пункт назначения', 'Номер поезда', 'Время отправления']
train_data = pd.DataFrame(columns=columns)

# Функция для ввода данных
def input_train():
    destination = input("Введите пункт назначения: ")
    train_number = input("Введите номер поезда: ")
    departure_time = input("Введите время отправления (в формате HH:MM): ")
    return {columns [0] : destination, columns [1] : train_number, columns [2] : departure_time}

# Ввод данных (например, 3 записи)
for _ in range(3):
    row = input_train()
    # Используем pd.DataFrame([row]) для добавления
    train_data = pd.concat([train_data, pd.DataFrame([row])], ignore_index=True)

# Сортируем по пункту назначения
train_data = train_data.sort_values(by='Пункт назначения')

# Ввод времени для фильтрации
time_threshold = input("Введите время для фильтрации (в формате HH:MM): ")

# Преобразуем строки в datetime
train_data['Время отправления'] = pd.to_datetime(train_data['Время отправления'], format='%H:%M')
time_threshold_dt = pd.to_datetime(time_threshold, format='%H:%M')

# Фильтр по времени
filtered_trains = train_data[train_data['Время отправления'] > time_threshold_dt]

# Вывод результата
if filtered_trains.empty:
    print("Поездов, отправляющихся после указанного времени, нет.")
else:
    print("Поезда, отправляющиеся после указанного времени:")
    print(filtered_trains)
%black
